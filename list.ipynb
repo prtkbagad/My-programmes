{
 "cells": [
  {
   "cell_type": "code",
   "execution_count": 6,
   "metadata": {},
   "outputs": [
    {
     "name": "stdout",
     "output_type": "stream",
     "text": [
      "a= [1, 2, 3, 4, 'a', 'hello']\n",
      "b= a*2 >> [1, 2, 3, 4, 'a', 'hello', 1, 2, 3, 4, 'a', 'hello']\n",
      "c= a+2 :Error\n",
      "d= a-2 :Error\n",
      "e= a/2 :Error\n",
      "f= a//2:Error\n",
      "g= a%2 :Error\n",
      "h= a**3:Error\n",
      "i= a+[5,6,7] >> [1, 2, 3, 4, 'a', 'hello', 5, 6, 7]\n",
      "j= a[0:3] >> [1, 2, 3]\n",
      "k= a[0:5:2] >> [1, 3, 'a']\n",
      "l= a[-1] >> hello\n",
      "l1= a[-1:] >> ['hello']\n",
      "m= i[-4:],i[:-1],i[-4:-1] >> ['hello', 5, 6, 7] [1, 2, 3, 4, 'a', 'hello', 5, 6] ['hello', 5, 6]\n",
      "n= a[-4:2] >> []\n",
      "n1= i[-8:8] >> [2, 3, 4, 'a', 'hello', 5, 6]\n",
      "o= a[4:-2] >> []\n",
      "p= a[::-1] >> ['hello', 'a', 4, 3, 2, 1]\n",
      "p1= a[::-2] >> ['hello', 4, 2]\n",
      "q= a-[1,2,3] :Error\n"
     ]
    }
   ],
   "source": [
    "a=[1,2,3,4,'a','hello']\n",
    "b=a*2\n",
    "#c=a+2\n",
    "#d=a-2\n",
    "#e=a/2\n",
    "#f=a%2\n",
    "#g=a//2\n",
    "#h=a**3\n",
    "i=a+[5,6,7]\n",
    "j=a[0:3]\n",
    "k=a[0:5:2]\n",
    "l=a[-1]\n",
    "l1=a[-1:]\n",
    "m=i[-6:-2]\n",
    "n=a[-4:2]\n",
    "n1=i[-8:8]\n",
    "o=a[4:-2]\n",
    "p=a[::-1]\n",
    "p1=a[::-2] #Starts with -1 & then steps of 2\n",
    "#q=a-[1,2,3]\n",
    "print(\"a=\",a)\n",
    "print(\"b= a*2 >>\",b)\n",
    "print(\"c= a+2 :Error\")\n",
    "print(\"d= a-2 :Error\")\n",
    "print(\"e= a/2 :Error\")\n",
    "print(\"f= a//2:Error\")\n",
    "print(\"g= a%2 :Error\")\n",
    "print(\"h= a**3:Error\")\n",
    "print(\"i= a+[5,6,7] >>\",i)\n",
    "print(\"j= a[0:3] >>\",j)\n",
    "print(\"k= a[0:5:2] >>\",k)\n",
    "print(\"l= a[-1] >>\",l)\n",
    "print(\"l1= a[-1:] >>\",l1)\n",
    "print(\"m= i[-4:],i[:-1],i[-4:-1] >>\",i[-4:],i[:-1],i[-4:-1])\n",
    "print(\"n= a[-4:2] >>\",n)\n",
    "print(\"n1= i[-8:8] >>\",n1)\n",
    "print(\"o= a[4:-2] >>\",o)\n",
    "print(\"p= a[::-1] >>\",p)\n",
    "print(\"p1= a[::-2] >>\",p1)\n",
    "print(\"q= a-[1,2,3] :Error\")"
   ]
  }
 ],
 "metadata": {
  "kernelspec": {
   "display_name": "Python 3",
   "language": "python",
   "name": "python3"
  },
  "language_info": {
   "codemirror_mode": {
    "name": "ipython",
    "version": 3
   },
   "file_extension": ".py",
   "mimetype": "text/x-python",
   "name": "python",
   "nbconvert_exporter": "python",
   "pygments_lexer": "ipython3",
   "version": "3.7.4"
  }
 },
 "nbformat": 4,
 "nbformat_minor": 2
}
